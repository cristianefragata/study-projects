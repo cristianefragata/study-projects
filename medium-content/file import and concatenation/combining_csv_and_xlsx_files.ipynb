{
  "nbformat": 4,
  "nbformat_minor": 0,
  "metadata": {
    "colab": {
      "name": "combining-csv-and-xlsx-files.ipynb",
      "provenance": [],
      "collapsed_sections": [],
      "authorship_tag": "ABX9TyPEr7Zfd8XdWWmQrV1Ui9HT",
      "include_colab_link": true
    },
    "kernelspec": {
      "name": "python3",
      "display_name": "Python 3"
    },
    "language_info": {
      "name": "python"
    }
  },
  "cells": [
    {
      "cell_type": "markdown",
      "metadata": {
        "id": "view-in-github",
        "colab_type": "text"
      },
      "source": [
        "<a href=\"https://colab.research.google.com/github/cristianefragata/study-projects/blob/main/medium-content/file%20import%20and%20concatenation/combining_csv_and_xlsx_files.ipynb\" target=\"_parent\"><img src=\"https://colab.research.google.com/assets/colab-badge.svg\" alt=\"Open In Colab\"/></a>"
      ]
    },
    {
      "cell_type": "markdown",
      "metadata": {
        "id": "E6ILfGAK-QQ_"
      },
      "source": [
        "#FILE IMPORT AND CONCATENATION"
      ]
    },
    {
      "cell_type": "markdown",
      "metadata": {
        "id": "bZuFP9lmoJkQ"
      },
      "source": [
        "<img src= \"https://user-images.githubusercontent.com/64228204/117051336-cc9c8080-acec-11eb-95ac-62d7ce3bf88d.png\">"
      ]
    },
    {
      "cell_type": "markdown",
      "metadata": {
        "id": "Q-0qtpaDTOdh"
      },
      "source": [
        "## Inspecting files directly from my [Github](https://github.com/cristianefragata/study-projects/tree/main/medium-content/file%20import%20and%20concatenation) repository"
      ]
    },
    {
      "cell_type": "code",
      "metadata": {
        "id": "yZa1ya8_TNM9"
      },
      "source": [
        "# Importing pandas\n",
        "import pandas as pd\n",
        "\n",
        "# Importing and reading all files\n",
        "file1 = pd.read_csv('https://raw.githubusercontent.com/cristianefragata/study-projects/main/medium-content/file%20import%20and%20concatenation/File1.csv')\n",
        "file2 = pd.read_csv('https://raw.githubusercontent.com/cristianefragata/study-projects/main/medium-content/file%20import%20and%20concatenation/File2.csv')\n",
        "excel1 = pd.read_excel('https://raw.githubusercontent.com/cristianefragata/study-projects/main/medium-content/file%20import%20and%20concatenation/Excel1.xlsx')\n",
        "excel2 = pd.read_excel('https://raw.githubusercontent.com/cristianefragata/study-projects/main/medium-content/file%20import%20and%20concatenation/Excel2.xlsx')\n",
        "excel_workbook = pd.read_excel('https://raw.githubusercontent.com/cristianefragata/study-projects/main/medium-content/file%20import%20and%20concatenation/Excel%20Workbook.xlsx', None)"
      ],
      "execution_count": null,
      "outputs": []
    },
    {
      "cell_type": "code",
      "metadata": {
        "colab": {
          "base_uri": "https://localhost:8080/",
          "height": 142
        },
        "id": "IF8KwijLUCfM",
        "outputId": "c1d8bd85-c336-4b3e-c00f-1424c3269524"
      },
      "source": [
        "# File1 has the same content as Excel1\n",
        "file1"
      ],
      "execution_count": null,
      "outputs": [
        {
          "output_type": "execute_result",
          "data": {
            "text/html": [
              "<div>\n",
              "<style scoped>\n",
              "    .dataframe tbody tr th:only-of-type {\n",
              "        vertical-align: middle;\n",
              "    }\n",
              "\n",
              "    .dataframe tbody tr th {\n",
              "        vertical-align: top;\n",
              "    }\n",
              "\n",
              "    .dataframe thead th {\n",
              "        text-align: right;\n",
              "    }\n",
              "</style>\n",
              "<table border=\"1\" class=\"dataframe\">\n",
              "  <thead>\n",
              "    <tr style=\"text-align: right;\">\n",
              "      <th></th>\n",
              "      <th>Product</th>\n",
              "      <th>Price</th>\n",
              "    </tr>\n",
              "  </thead>\n",
              "  <tbody>\n",
              "    <tr>\n",
              "      <th>0</th>\n",
              "      <td>Headphone</td>\n",
              "      <td>20.90</td>\n",
              "    </tr>\n",
              "    <tr>\n",
              "      <th>1</th>\n",
              "      <td>Mouse</td>\n",
              "      <td>9.99</td>\n",
              "    </tr>\n",
              "    <tr>\n",
              "      <th>2</th>\n",
              "      <td>Wireless Keyboard</td>\n",
              "      <td>30.45</td>\n",
              "    </tr>\n",
              "  </tbody>\n",
              "</table>\n",
              "</div>"
            ],
            "text/plain": [
              "             Product  Price\n",
              "0          Headphone  20.90\n",
              "1              Mouse   9.99\n",
              "2  Wireless Keyboard  30.45"
            ]
          },
          "metadata": {
            "tags": []
          },
          "execution_count": 2
        }
      ]
    },
    {
      "cell_type": "code",
      "metadata": {
        "colab": {
          "base_uri": "https://localhost:8080/",
          "height": 142
        },
        "id": "k0eD7SLcUIIy",
        "outputId": "503d2777-a48e-46da-d7cd-4a2e60c87553"
      },
      "source": [
        "# File2 has the same content as Excel2\n",
        "file2"
      ],
      "execution_count": null,
      "outputs": [
        {
          "output_type": "execute_result",
          "data": {
            "text/html": [
              "<div>\n",
              "<style scoped>\n",
              "    .dataframe tbody tr th:only-of-type {\n",
              "        vertical-align: middle;\n",
              "    }\n",
              "\n",
              "    .dataframe tbody tr th {\n",
              "        vertical-align: top;\n",
              "    }\n",
              "\n",
              "    .dataframe thead th {\n",
              "        text-align: right;\n",
              "    }\n",
              "</style>\n",
              "<table border=\"1\" class=\"dataframe\">\n",
              "  <thead>\n",
              "    <tr style=\"text-align: right;\">\n",
              "      <th></th>\n",
              "      <th>Product</th>\n",
              "      <th>Price</th>\n",
              "    </tr>\n",
              "  </thead>\n",
              "  <tbody>\n",
              "    <tr>\n",
              "      <th>0</th>\n",
              "      <td>Water bottle</td>\n",
              "      <td>5.6</td>\n",
              "    </tr>\n",
              "    <tr>\n",
              "      <th>1</th>\n",
              "      <td>Rain coat</td>\n",
              "      <td>30.0</td>\n",
              "    </tr>\n",
              "    <tr>\n",
              "      <th>2</th>\n",
              "      <td>8 Socks</td>\n",
              "      <td>40.0</td>\n",
              "    </tr>\n",
              "  </tbody>\n",
              "</table>\n",
              "</div>"
            ],
            "text/plain": [
              "        Product  Price\n",
              "0  Water bottle    5.6\n",
              "1     Rain coat   30.0\n",
              "2       8 Socks   40.0"
            ]
          },
          "metadata": {
            "tags": []
          },
          "execution_count": 3
        }
      ]
    },
    {
      "cell_type": "code",
      "metadata": {
        "colab": {
          "base_uri": "https://localhost:8080/"
        },
        "id": "fm1_37askuLj",
        "outputId": "8977ad2d-616a-4c1c-b9f9-ee4393c4db05"
      },
      "source": [
        "# Returns a dictionary with all worksheets as keys\n",
        "# Sheet 1 has the same content as Excel1 and File1\n",
        "# Sheet 2 has the same content as Excel2 and File2\n",
        "print(excel_workbook)"
      ],
      "execution_count": null,
      "outputs": [
        {
          "output_type": "stream",
          "text": [
            "{'Sheet1':              Product  Price\n",
            "0          Headphone  20.90\n",
            "1              Mouse   9.99\n",
            "2  Wireless Keyboard  30.45, 'Sheet2':         Product  Price\n",
            "0  Water bottle    5.6\n",
            "1     Rain coat   30.0\n",
            "2       8 Socks   40.0}\n"
          ],
          "name": "stdout"
        }
      ]
    },
    {
      "cell_type": "code",
      "metadata": {
        "colab": {
          "base_uri": "https://localhost:8080/",
          "height": 142
        },
        "id": "OYizDbp7lTBr",
        "outputId": "dd528ff7-6869-455e-a30c-3d3f6b65d581"
      },
      "source": [
        "# Accessing a particular worksheet\n",
        "excel_workbook['Sheet2']"
      ],
      "execution_count": null,
      "outputs": [
        {
          "output_type": "execute_result",
          "data": {
            "text/html": [
              "<div>\n",
              "<style scoped>\n",
              "    .dataframe tbody tr th:only-of-type {\n",
              "        vertical-align: middle;\n",
              "    }\n",
              "\n",
              "    .dataframe tbody tr th {\n",
              "        vertical-align: top;\n",
              "    }\n",
              "\n",
              "    .dataframe thead th {\n",
              "        text-align: right;\n",
              "    }\n",
              "</style>\n",
              "<table border=\"1\" class=\"dataframe\">\n",
              "  <thead>\n",
              "    <tr style=\"text-align: right;\">\n",
              "      <th></th>\n",
              "      <th>Product</th>\n",
              "      <th>Price</th>\n",
              "    </tr>\n",
              "  </thead>\n",
              "  <tbody>\n",
              "    <tr>\n",
              "      <th>0</th>\n",
              "      <td>Water bottle</td>\n",
              "      <td>5.6</td>\n",
              "    </tr>\n",
              "    <tr>\n",
              "      <th>1</th>\n",
              "      <td>Rain coat</td>\n",
              "      <td>30.0</td>\n",
              "    </tr>\n",
              "    <tr>\n",
              "      <th>2</th>\n",
              "      <td>8 Socks</td>\n",
              "      <td>40.0</td>\n",
              "    </tr>\n",
              "  </tbody>\n",
              "</table>\n",
              "</div>"
            ],
            "text/plain": [
              "        Product  Price\n",
              "0  Water bottle    5.6\n",
              "1     Rain coat   30.0\n",
              "2       8 Socks   40.0"
            ]
          },
          "metadata": {
            "tags": []
          },
          "execution_count": 5
        }
      ]
    },
    {
      "cell_type": "markdown",
      "metadata": {
        "id": "wExsnUlDA06s"
      },
      "source": [
        "## OS Module\n",
        "\n",
        "\n",
        "First, you must have noticed the OS module mention in the initial figure. Let me quickly introduce you to the OS module. The os module provides dozens of functions for interacting with the operating system using Python. We can access, modify, move, delete files, among many other functions. \n",
        "\n",
        "\n",
        "Most of the time we are analyzing and interacting with local files and folders to perform further data analysis, and now you see why the OS module will come in handy. To start this analysis, in case you want to follow along, you can **manually download** all 5 files from my [Github repository](https://github.com/cristianefragata/study-projects/tree/main/medium-content/file%20import%20and%20concatenation) and proceed to Case 1. **Alternatively** you could also **download all files directly to Google Colab by running the code snippet below**, in which case you can skip to Case 1, more specifically to the line where we list all files in our current directory after import. Either way, once you have all files, we are good to go!"
      ]
    },
    {
      "cell_type": "code",
      "metadata": {
        "colab": {
          "base_uri": "https://localhost:8080/"
        },
        "id": "wsag2kAad9qY",
        "outputId": "0f7eb9ce-a5fd-4cd5-da6d-fd22f91952fd"
      },
      "source": [
        "# Importing os module\n",
        "import os\n",
        "\n",
        "# Creating a new directory on Google Colab to download all files\n",
        "os.mkdir('/content/Files')\n",
        "\n",
        "# If you wish, you can set this new working directory as current to download all files to this particular folder\n",
        "os.chdir(\"/content/Files\")\n",
        "\n",
        "# Downloading all files from my github repository directly to Google Colab\n",
        "!wget https://raw.githubusercontent.com/cristianefragata/study-projects/main/medium-content/file%20import%20and%20concatenation/File1.csv\n",
        "!wget https://raw.githubusercontent.com/cristianefragata/study-projects/main/medium-content/file%20import%20and%20concatenation/File2.csv\n",
        "!wget https://raw.githubusercontent.com/cristianefragata/study-projects/main/medium-content/file%20import%20and%20concatenation/Excel1.xlsx\n",
        "!wget https://raw.githubusercontent.com/cristianefragata/study-projects/main/medium-content/file%20import%20and%20concatenation/Excel2.xlsx\n",
        "!wget https://raw.githubusercontent.com/cristianefragata/study-projects/main/medium-content/file%20import%20and%20concatenation/Excel%20Workbook.xlsx"
      ],
      "execution_count": 1,
      "outputs": [
        {
          "output_type": "stream",
          "text": [
            "--2021-06-09 19:59:31--  https://raw.githubusercontent.com/cristianefragata/study-projects/main/medium-content/file%20import%20and%20concatenation/File1.csv\n",
            "Resolving raw.githubusercontent.com (raw.githubusercontent.com)... 185.199.108.133, 185.199.109.133, 185.199.110.133, ...\n",
            "Connecting to raw.githubusercontent.com (raw.githubusercontent.com)|185.199.108.133|:443... connected.\n",
            "HTTP request sent, awaiting response... 200 OK\n",
            "Length: 69 [text/plain]\n",
            "Saving to: ‘File1.csv’\n",
            "\n",
            "\rFile1.csv             0%[                    ]       0  --.-KB/s               \rFile1.csv           100%[===================>]      69  --.-KB/s    in 0s      \n",
            "\n",
            "2021-06-09 19:59:31 (5.23 MB/s) - ‘File1.csv’ saved [69/69]\n",
            "\n",
            "--2021-06-09 19:59:31--  https://raw.githubusercontent.com/cristianefragata/study-projects/main/medium-content/file%20import%20and%20concatenation/File2.csv\n",
            "Resolving raw.githubusercontent.com (raw.githubusercontent.com)... 185.199.108.133, 185.199.109.133, 185.199.110.133, ...\n",
            "Connecting to raw.githubusercontent.com (raw.githubusercontent.com)|185.199.108.133|:443... connected.\n",
            "HTTP request sent, awaiting response... 200 OK\n",
            "Length: 60 [text/plain]\n",
            "Saving to: ‘File2.csv’\n",
            "\n",
            "File2.csv           100%[===================>]      60  --.-KB/s    in 0s      \n",
            "\n",
            "2021-06-09 19:59:31 (3.28 MB/s) - ‘File2.csv’ saved [60/60]\n",
            "\n",
            "--2021-06-09 19:59:31--  https://raw.githubusercontent.com/cristianefragata/study-projects/main/medium-content/file%20import%20and%20concatenation/Excel1.xlsx\n",
            "Resolving raw.githubusercontent.com (raw.githubusercontent.com)... 185.199.108.133, 185.199.109.133, 185.199.110.133, ...\n",
            "Connecting to raw.githubusercontent.com (raw.githubusercontent.com)|185.199.108.133|:443... connected.\n",
            "HTTP request sent, awaiting response... 200 OK\n",
            "Length: 10103 (9.9K) [application/octet-stream]\n",
            "Saving to: ‘Excel1.xlsx’\n",
            "\n",
            "Excel1.xlsx         100%[===================>]   9.87K  --.-KB/s    in 0s      \n",
            "\n",
            "2021-06-09 19:59:31 (68.2 MB/s) - ‘Excel1.xlsx’ saved [10103/10103]\n",
            "\n",
            "--2021-06-09 19:59:31--  https://raw.githubusercontent.com/cristianefragata/study-projects/main/medium-content/file%20import%20and%20concatenation/Excel2.xlsx\n",
            "Resolving raw.githubusercontent.com (raw.githubusercontent.com)... 185.199.108.133, 185.199.109.133, 185.199.110.133, ...\n",
            "Connecting to raw.githubusercontent.com (raw.githubusercontent.com)|185.199.108.133|:443... connected.\n",
            "HTTP request sent, awaiting response... 200 OK\n",
            "Length: 10075 (9.8K) [application/octet-stream]\n",
            "Saving to: ‘Excel2.xlsx’\n",
            "\n",
            "Excel2.xlsx         100%[===================>]   9.84K  --.-KB/s    in 0s      \n",
            "\n",
            "2021-06-09 19:59:32 (86.1 MB/s) - ‘Excel2.xlsx’ saved [10075/10075]\n",
            "\n",
            "--2021-06-09 19:59:32--  https://raw.githubusercontent.com/cristianefragata/study-projects/main/medium-content/file%20import%20and%20concatenation/Excel%20Workbook.xlsx\n",
            "Resolving raw.githubusercontent.com (raw.githubusercontent.com)... 185.199.108.133, 185.199.109.133, 185.199.110.133, ...\n",
            "Connecting to raw.githubusercontent.com (raw.githubusercontent.com)|185.199.108.133|:443... connected.\n",
            "HTTP request sent, awaiting response... 200 OK\n",
            "Length: 10953 (11K) [application/octet-stream]\n",
            "Saving to: ‘Excel Workbook.xlsx’\n",
            "\n",
            "Excel Workbook.xlsx 100%[===================>]  10.70K  --.-KB/s    in 0s      \n",
            "\n",
            "2021-06-09 19:59:32 (96.6 MB/s) - ‘Excel Workbook.xlsx’ saved [10953/10953]\n",
            "\n"
          ],
          "name": "stdout"
        }
      ]
    },
    {
      "cell_type": "markdown",
      "metadata": {
        "id": "emCkx61GEpj_"
      },
      "source": [
        "## Case 1: Combining multiple CSV files\n"
      ]
    },
    {
      "cell_type": "code",
      "metadata": {
        "id": "uXpAL9ScslEe"
      },
      "source": [
        "# Importing os module\n",
        "import os"
      ],
      "execution_count": null,
      "outputs": []
    },
    {
      "cell_type": "code",
      "metadata": {
        "colab": {
          "base_uri": "https://localhost:8080/",
          "height": 35
        },
        "id": "jHE9l535slyv",
        "outputId": "f1696e70-20d9-4574-d6c6-5ef875475b46"
      },
      "source": [
        "# Displaying the current working directory\n",
        "os.getcwd() "
      ],
      "execution_count": null,
      "outputs": [
        {
          "output_type": "execute_result",
          "data": {
            "application/vnd.google.colaboratory.intrinsic+json": {
              "type": "string"
            },
            "text/plain": [
              "'/content'"
            ]
          },
          "metadata": {
            "tags": []
          },
          "execution_count": 4
        }
      ]
    },
    {
      "cell_type": "code",
      "metadata": {
        "colab": {
          "base_uri": "https://localhost:8080/",
          "height": 35
        },
        "id": "sMOv_LnSstGp",
        "outputId": "22cf202b-080d-4cd7-b4bf-fe21274b0ab2"
      },
      "source": [
        "# Creating a new directory on Colab to upload your local files\n",
        "# You might have to refresh the menu bar on your left to see the new folder\n",
        "os.mkdir('/content/Files')\n",
        "\n",
        "# If you wish, you can set this new working directory as current \n",
        "os.chdir(\"/content/Files\") # just provide the new folder path as a string\n",
        "\n",
        "# You can always check it if worked by typing os.getcwd() one more time\n",
        "os.getcwd() "
      ],
      "execution_count": null,
      "outputs": [
        {
          "output_type": "execute_result",
          "data": {
            "application/vnd.google.colaboratory.intrinsic+json": {
              "type": "string"
            },
            "text/plain": [
              "'/content/Files'"
            ]
          },
          "metadata": {
            "tags": []
          },
          "execution_count": 5
        }
      ]
    },
    {
      "cell_type": "code",
      "metadata": {
        "colab": {
          "resources": {
            "http://localhost:8080/nbextensions/google.colab/files.js": {
              "data": "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",
              "ok": true,
              "headers": [
                [
                  "content-type",
                  "application/javascript"
                ]
              ],
              "status": 200,
              "status_text": ""
            }
          },
          "base_uri": "https://localhost:8080/",
          "height": 208
        },
        "id": "GYj6I-CUglZi",
        "outputId": "468affb3-6d23-447d-92ad-3a0b0ee15cb3"
      },
      "source": [
        "# Manually importing files to the Files folder\n",
        "from google.colab import files\n",
        "uploaded = files.upload()"
      ],
      "execution_count": null,
      "outputs": [
        {
          "output_type": "display_data",
          "data": {
            "text/html": [
              "\n",
              "     <input type=\"file\" id=\"files-3c8e9153-4761-4117-bb9a-96a3a90b0dcc\" name=\"files[]\" multiple disabled\n",
              "        style=\"border:none\" />\n",
              "     <output id=\"result-3c8e9153-4761-4117-bb9a-96a3a90b0dcc\">\n",
              "      Upload widget is only available when the cell has been executed in the\n",
              "      current browser session. Please rerun this cell to enable.\n",
              "      </output>\n",
              "      <script src=\"/nbextensions/google.colab/files.js\"></script> "
            ],
            "text/plain": [
              "<IPython.core.display.HTML object>"
            ]
          },
          "metadata": {
            "tags": []
          }
        },
        {
          "output_type": "stream",
          "text": [
            "Saving Excel Workbook.xlsx to Excel Workbook.xlsx\n",
            "Saving Excel1.xlsx to Excel1.xlsx\n",
            "Saving Excel2.xlsx to Excel2.xlsx\n",
            "Saving File1.csv to File1.csv\n",
            "Saving File2.csv to File2.csv\n"
          ],
          "name": "stdout"
        }
      ]
    },
    {
      "cell_type": "code",
      "metadata": {
        "colab": {
          "base_uri": "https://localhost:8080/"
        },
        "id": "pRM58X-Ps4Ww",
        "outputId": "f705d871-f6b8-4c4c-b0a6-2ff0fb1e761b"
      },
      "source": [
        "# Listing all files in our current directory\n",
        "os.listdir()"
      ],
      "execution_count": null,
      "outputs": [
        {
          "output_type": "execute_result",
          "data": {
            "text/plain": [
              "['File1.csv', 'File2.csv', 'Excel Workbook.xlsx', 'Excel1.xlsx', 'Excel2.xlsx']"
            ]
          },
          "metadata": {
            "tags": []
          },
          "execution_count": 7
        }
      ]
    },
    {
      "cell_type": "code",
      "metadata": {
        "id": "Ka1mSDNBuSEX"
      },
      "source": [
        "# In case you need to sort your files in a particular order before concatenation\n",
        "list_dir = sorted(os.listdir(os.getcwd()))"
      ],
      "execution_count": null,
      "outputs": []
    },
    {
      "cell_type": "code",
      "metadata": {
        "colab": {
          "base_uri": "https://localhost:8080/"
        },
        "id": "kZbeyCXayHMO",
        "outputId": "3cf32ed5-c94e-41ca-ea3c-2b00772f767e"
      },
      "source": [
        "print(list_dir)"
      ],
      "execution_count": null,
      "outputs": [
        {
          "output_type": "stream",
          "text": [
            "['Excel Workbook.xlsx', 'Excel1.xlsx', 'Excel2.xlsx', 'File1.csv', 'File2.csv']\n"
          ],
          "name": "stdout"
        }
      ]
    },
    {
      "cell_type": "code",
      "metadata": {
        "colab": {
          "base_uri": "https://localhost:8080/"
        },
        "id": "_Nu_dhI_PfEn",
        "outputId": "fa854ccf-3707-45fc-d04e-4685e35eef62"
      },
      "source": [
        "# You could also use ls to list all files in a directory\n",
        "!ls"
      ],
      "execution_count": null,
      "outputs": [
        {
          "output_type": "stream",
          "text": [
            " Excel1.xlsx   Excel2.xlsx  'Excel Workbook.xlsx'   File1.csv   File2.csv\n"
          ],
          "name": "stdout"
        }
      ]
    },
    {
      "cell_type": "code",
      "metadata": {
        "colab": {
          "base_uri": "https://localhost:8080/"
        },
        "id": "w4JNfWvqI9Po",
        "outputId": "b36f74a6-9e44-4791-f716-bc01206c6250"
      },
      "source": [
        "# This is just another way for listing all files in a directory using os module\n",
        "import os\n",
        "\n",
        "filenames = []\n",
        "directory = '/content/Files'\n",
        "for root, dirs, files in os.walk(directory):\n",
        "     filenames = next(os.walk(directory))[2]\n",
        "\n",
        "print(filenames)"
      ],
      "execution_count": null,
      "outputs": [
        {
          "output_type": "stream",
          "text": [
            "['File1.csv', 'File2.csv', 'Excel Workbook.xlsx', 'Excel1.xlsx', 'Excel2.xlsx']\n"
          ],
          "name": "stdout"
        }
      ]
    },
    {
      "cell_type": "code",
      "metadata": {
        "colab": {
          "base_uri": "https://localhost:8080/"
        },
        "id": "spj3SLndggFM",
        "outputId": "bc3fe425-176b-4a2d-8c6c-06c24fab983d"
      },
      "source": [
        "# Sorting our filenames list with the sort function\n",
        "filenames.sort()\n",
        "filenames"
      ],
      "execution_count": null,
      "outputs": [
        {
          "output_type": "execute_result",
          "data": {
            "text/plain": [
              "['Excel Workbook.xlsx', 'Excel1.xlsx', 'Excel2.xlsx', 'File1.csv', 'File2.csv']"
            ]
          },
          "metadata": {
            "tags": []
          },
          "execution_count": 12
        }
      ]
    },
    {
      "cell_type": "markdown",
      "metadata": {
        "id": "-u7PRE8dIYuj"
      },
      "source": [
        "You can see that the directory is quite messy. We uploaded all files to the same folder on purpose. Since life is also messy, I decided to leave it that way. If you only have the files you intend to combine in your folder, you can just skip the next code snippet. \n",
        "\n",
        "On the other hand, a messy directory is also a great opportunity to a learn a bit about the **glob module**. The glob module finds all the pathnames matching a specified pattern according to the rules used by the Unix shell and returns this match as a list in arbitrary order. We will use the glob module to select only the files with csv extension."
      ]
    },
    {
      "cell_type": "code",
      "metadata": {
        "colab": {
          "base_uri": "https://localhost:8080/"
        },
        "id": "5zdkwioDs-kR",
        "outputId": "abdb2065-a0bb-4b6a-c3d4-cdd7927840fc"
      },
      "source": [
        "# Importing glob\n",
        "import glob\n",
        "\n",
        "# Selecting all files with csv extension\n",
        "extension = 'csv'\n",
        "result = glob.glob('*.{}'.format(extension))\n",
        "print(result)"
      ],
      "execution_count": null,
      "outputs": [
        {
          "output_type": "stream",
          "text": [
            "['File1.csv', 'File2.csv']\n"
          ],
          "name": "stdout"
        }
      ]
    },
    {
      "cell_type": "code",
      "metadata": {
        "colab": {
          "base_uri": "https://localhost:8080/"
        },
        "id": "VJg9_cAMxRrS",
        "outputId": "56dde0ed-ec1e-4220-fe3a-c4a30bf05d0b"
      },
      "source": [
        "# If the filename order matters to you, make sure you sort the list using the function sort\n",
        "# If you have an numerical column such as an ID or a Date, you can always sort the dataframe afterwards using pandas\n",
        "result.sort()\n",
        "result"
      ],
      "execution_count": null,
      "outputs": [
        {
          "output_type": "execute_result",
          "data": {
            "text/plain": [
              "['File1.csv', 'File2.csv']"
            ]
          },
          "metadata": {
            "tags": []
          },
          "execution_count": 14
        }
      ]
    },
    {
      "cell_type": "code",
      "metadata": {
        "id": "PDvC4zXk1-2y"
      },
      "source": [
        "# Importing pandas\n",
        "import pandas as pd\n",
        "\n",
        "# Saving the directory path into a variable named directory\n",
        "directory = '/content/Files'\n",
        "\n",
        "# Accomplishing file import and concatenation using list comprehension and pandas concat function\n",
        "# You might need to change the delimiter parameter named sep for a different file pattern, such as ';' or '\\t' for tab.\n",
        "# The parameter ignore_index = True creates a continuous index for all observations in our files. Change it to false to see what happens!\n",
        "df = pd.concat([pd.read_csv(directory +'/' + file, sep=',') for file in result], ignore_index=False)"
      ],
      "execution_count": null,
      "outputs": []
    },
    {
      "cell_type": "code",
      "metadata": {
        "id": "6btwKvEnyIJs"
      },
      "source": [
        "# We can finally export this dataframe as a new csv file\n",
        "# In case you want to control chaos, it is nice to create a new directory for your output files\n",
        "\n",
        "# Creating a new directory \n",
        "os.mkdir(\"/content/Output files\")\n",
        "\n",
        "# Exporting the df dataframe as a new csv file\n",
        "df.to_csv('/content/Output files/Output_Case1.csv')"
      ],
      "execution_count": null,
      "outputs": []
    },
    {
      "cell_type": "code",
      "metadata": {
        "colab": {
          "base_uri": "https://localhost:8080/"
        },
        "id": "Lq1VCQskzLuo",
        "outputId": "c978ca75-be97-4da1-a2f6-bdaf9435dbf2"
      },
      "source": [
        "# Just checking if the file was saved in our new folder\n",
        "print(os.listdir('/content/Output files'))"
      ],
      "execution_count": null,
      "outputs": [
        {
          "output_type": "stream",
          "text": [
            "['Output_Case1.csv']\n"
          ],
          "name": "stdout"
        }
      ]
    },
    {
      "cell_type": "markdown",
      "metadata": {
        "id": "7bZXumqjP2x1"
      },
      "source": [
        "## Case 2: Combining multiple Excel Workbooks files"
      ]
    },
    {
      "cell_type": "code",
      "metadata": {
        "colab": {
          "base_uri": "https://localhost:8080/"
        },
        "id": "XQpr4-I2UOT5",
        "outputId": "88c2486a-9077-4032-b40c-d5b9dff42028"
      },
      "source": [
        "# Listing all files in our files directory\n",
        "os.listdir('/content/Files')"
      ],
      "execution_count": null,
      "outputs": [
        {
          "output_type": "execute_result",
          "data": {
            "text/plain": [
              "['File1.csv', 'File2.csv', 'Excel Workbook.xlsx', 'Excel1.xlsx', 'Excel2.xlsx']"
            ]
          },
          "metadata": {
            "tags": []
          },
          "execution_count": 18
        }
      ]
    },
    {
      "cell_type": "code",
      "metadata": {
        "colab": {
          "base_uri": "https://localhost:8080/"
        },
        "id": "NQNLFk3M9vKU",
        "outputId": "b90b4d0a-7505-476d-bf1c-285fdc11cd4f"
      },
      "source": [
        "# Now we want to select all xlsx files except the 'Excel Worbook.xlsx' file, because it is only relevant in Case 3\n",
        "# If we only use the extension, we still have an unwanted file. See below: \n",
        "extension = 'xlsx'\n",
        "result = glob.glob('*.{}'.format(extension))\n",
        "print(result)"
      ],
      "execution_count": null,
      "outputs": [
        {
          "output_type": "stream",
          "text": [
            "['Excel Workbook.xlsx', 'Excel1.xlsx', 'Excel2.xlsx']\n"
          ],
          "name": "stdout"
        }
      ]
    },
    {
      "cell_type": "code",
      "metadata": {
        "colab": {
          "base_uri": "https://localhost:8080/"
        },
        "id": "qLPvSL6y7MH5",
        "outputId": "955e55f1-2098-4eba-acd7-34daa1cac779"
      },
      "source": [
        "# Let's use a trick to select only the files that are not named with Excel followed by a space.\n",
        "ls = result\n",
        " \n",
        "matches = []\n",
        " \n",
        "for match in ls:\n",
        "    if \"Excel \" not in match:\n",
        "        matches.append(match)\n",
        " \n",
        "print(matches)"
      ],
      "execution_count": null,
      "outputs": [
        {
          "output_type": "stream",
          "text": [
            "['Excel1.xlsx', 'Excel2.xlsx']\n"
          ],
          "name": "stdout"
        }
      ]
    },
    {
      "cell_type": "code",
      "metadata": {
        "colab": {
          "base_uri": "https://localhost:8080/"
        },
        "id": "L8HYJf2C6gY1",
        "outputId": "9ee9a50f-875e-45bc-ae5b-50dd0cd5b893"
      },
      "source": [
        "# We could also solve this using glob\n",
        "# Adding a different search pattern for the filename \n",
        "# The filenames in our result list should also contain numbers from 0 to 9.\n",
        "\n",
        "extension = 'xlsx'\n",
        "result = glob.glob('*[0-9].{}'.format(extension))\n",
        "print(result)"
      ],
      "execution_count": null,
      "outputs": [
        {
          "output_type": "stream",
          "text": [
            "['Excel1.xlsx', 'Excel2.xlsx']\n"
          ],
          "name": "stdout"
        }
      ]
    },
    {
      "cell_type": "code",
      "metadata": {
        "colab": {
          "base_uri": "https://localhost:8080/"
        },
        "id": "T5vmx3_zBo6m",
        "outputId": "920f8f9a-467e-4cca-a6b5-6a723b861d74"
      },
      "source": [
        "# Just to provide you with another example pattern to perform the same task using glob:\n",
        "print(glob.glob('Excel*[0-9].xlsx'))# Selecting only the filenames with the word Excel followed by numbers from 0 to 9"
      ],
      "execution_count": null,
      "outputs": [
        {
          "output_type": "stream",
          "text": [
            "['Excel1.xlsx', 'Excel2.xlsx']\n"
          ],
          "name": "stdout"
        }
      ]
    },
    {
      "cell_type": "code",
      "metadata": {
        "id": "AEUm8uJf-Sml"
      },
      "source": [
        "# Importing pandas\n",
        "import pandas as pd\n",
        "\n",
        "# Saving the directory path into a variable named directory\n",
        "directory = '/content/Files'\n",
        "\n",
        "# Accomplishing file import and concatenation using list comprehension and pandas concat function\n",
        "# The parameter ignore_index = True creates a continuous index for all observations in our files. Change it to false to see what happens!\n",
        "df_excel_two_files = pd.concat([pd.read_excel(directory +'/' +  file) for file in result], ignore_index= True)"
      ],
      "execution_count": null,
      "outputs": []
    },
    {
      "cell_type": "code",
      "metadata": {
        "colab": {
          "base_uri": "https://localhost:8080/",
          "height": 235
        },
        "id": "0mXotQV6WLCO",
        "outputId": "ba800ab4-700b-4f9f-b83c-f584bd521657"
      },
      "source": [
        "# Displaying the new dataframe\n",
        "df_excel_two_files"
      ],
      "execution_count": null,
      "outputs": [
        {
          "output_type": "execute_result",
          "data": {
            "text/html": [
              "<div>\n",
              "<style scoped>\n",
              "    .dataframe tbody tr th:only-of-type {\n",
              "        vertical-align: middle;\n",
              "    }\n",
              "\n",
              "    .dataframe tbody tr th {\n",
              "        vertical-align: top;\n",
              "    }\n",
              "\n",
              "    .dataframe thead th {\n",
              "        text-align: right;\n",
              "    }\n",
              "</style>\n",
              "<table border=\"1\" class=\"dataframe\">\n",
              "  <thead>\n",
              "    <tr style=\"text-align: right;\">\n",
              "      <th></th>\n",
              "      <th>Product</th>\n",
              "      <th>Price</th>\n",
              "    </tr>\n",
              "  </thead>\n",
              "  <tbody>\n",
              "    <tr>\n",
              "      <th>0</th>\n",
              "      <td>Headphone</td>\n",
              "      <td>20.90</td>\n",
              "    </tr>\n",
              "    <tr>\n",
              "      <th>1</th>\n",
              "      <td>Mouse</td>\n",
              "      <td>9.99</td>\n",
              "    </tr>\n",
              "    <tr>\n",
              "      <th>2</th>\n",
              "      <td>Wireless Keyboard</td>\n",
              "      <td>30.45</td>\n",
              "    </tr>\n",
              "    <tr>\n",
              "      <th>3</th>\n",
              "      <td>Water bottle</td>\n",
              "      <td>5.60</td>\n",
              "    </tr>\n",
              "    <tr>\n",
              "      <th>4</th>\n",
              "      <td>Rain coat</td>\n",
              "      <td>30.00</td>\n",
              "    </tr>\n",
              "    <tr>\n",
              "      <th>5</th>\n",
              "      <td>8 Socks</td>\n",
              "      <td>40.00</td>\n",
              "    </tr>\n",
              "  </tbody>\n",
              "</table>\n",
              "</div>"
            ],
            "text/plain": [
              "             Product  Price\n",
              "0          Headphone  20.90\n",
              "1              Mouse   9.99\n",
              "2  Wireless Keyboard  30.45\n",
              "3       Water bottle   5.60\n",
              "4          Rain coat  30.00\n",
              "5            8 Socks  40.00"
            ]
          },
          "metadata": {
            "tags": []
          },
          "execution_count": 24
        }
      ]
    },
    {
      "cell_type": "code",
      "metadata": {
        "id": "J-Mm0VvQWcWB"
      },
      "source": [
        "# We can finally export this dataframe as a new xlsx file\n",
        "# We already created a new directory for the new files in Case 1, so we can just save it there\n",
        "\n",
        "# If you did not read Case 1, you might want to create a new directory to save your output files\n",
        "# Just uncommment the following line\n",
        "# os.mkdir(\"/content/Output files\")\n",
        "\n",
        "# Exporting the dataframe as a new xlsx file\n",
        "# You can use the parameter index = False to avoid this extra index column in your new file\n",
        "df_excel_two_files.to_excel(\"/content/Output files/Output_Case2.xlsx\", index= False)"
      ],
      "execution_count": null,
      "outputs": []
    },
    {
      "cell_type": "markdown",
      "metadata": {
        "id": "9Y0skwyeXG3v"
      },
      "source": [
        "## Case 3: Combining multiple sheets of a single Excel Workbook"
      ]
    },
    {
      "cell_type": "code",
      "metadata": {
        "id": "VX6T8DIIztzu"
      },
      "source": [
        "# Importing pandas\n",
        "import pandas as pd\n",
        "\n",
        "# Reading all worksheets of the Excel Workbook\n",
        "multiple_sheets_file = pd.read_excel(\"/content/Files/Excel Workbook.xlsx\", None) # The parameter None ensures that we would like to access all sheets."
      ],
      "execution_count": null,
      "outputs": []
    },
    {
      "cell_type": "code",
      "metadata": {
        "colab": {
          "base_uri": "https://localhost:8080/"
        },
        "id": "vUK9Xn1EaMwL",
        "outputId": "ae3cebc5-9473-442b-ff55-16f17524c664"
      },
      "source": [
        "# The result is a Python dictionary\n",
        "multiple_sheets_file"
      ],
      "execution_count": null,
      "outputs": [
        {
          "output_type": "execute_result",
          "data": {
            "text/plain": [
              "{'Sheet1':              Product  Price\n",
              " 0          Headphone  20.90\n",
              " 1              Mouse   9.99\n",
              " 2  Wireless Keyboard  30.45, 'Sheet2':         Product  Price\n",
              " 0  Water bottle    5.6\n",
              " 1     Rain coat   30.0\n",
              " 2       8 Socks   40.0}"
            ]
          },
          "metadata": {
            "tags": []
          },
          "execution_count": 27
        }
      ]
    },
    {
      "cell_type": "code",
      "metadata": {
        "colab": {
          "base_uri": "https://localhost:8080/",
          "height": 142
        },
        "id": "QaWaOeDKzyTV",
        "outputId": "2c66d44a-b8ee-44dd-ee3e-6a7dff85d7b5"
      },
      "source": [
        "# We can access different sheets by using the dictionary keys\n",
        "multiple_sheets_file['Sheet1']"
      ],
      "execution_count": null,
      "outputs": [
        {
          "output_type": "execute_result",
          "data": {
            "text/html": [
              "<div>\n",
              "<style scoped>\n",
              "    .dataframe tbody tr th:only-of-type {\n",
              "        vertical-align: middle;\n",
              "    }\n",
              "\n",
              "    .dataframe tbody tr th {\n",
              "        vertical-align: top;\n",
              "    }\n",
              "\n",
              "    .dataframe thead th {\n",
              "        text-align: right;\n",
              "    }\n",
              "</style>\n",
              "<table border=\"1\" class=\"dataframe\">\n",
              "  <thead>\n",
              "    <tr style=\"text-align: right;\">\n",
              "      <th></th>\n",
              "      <th>Product</th>\n",
              "      <th>Price</th>\n",
              "    </tr>\n",
              "  </thead>\n",
              "  <tbody>\n",
              "    <tr>\n",
              "      <th>0</th>\n",
              "      <td>Headphone</td>\n",
              "      <td>20.90</td>\n",
              "    </tr>\n",
              "    <tr>\n",
              "      <th>1</th>\n",
              "      <td>Mouse</td>\n",
              "      <td>9.99</td>\n",
              "    </tr>\n",
              "    <tr>\n",
              "      <th>2</th>\n",
              "      <td>Wireless Keyboard</td>\n",
              "      <td>30.45</td>\n",
              "    </tr>\n",
              "  </tbody>\n",
              "</table>\n",
              "</div>"
            ],
            "text/plain": [
              "             Product  Price\n",
              "0          Headphone  20.90\n",
              "1              Mouse   9.99\n",
              "2  Wireless Keyboard  30.45"
            ]
          },
          "metadata": {
            "tags": []
          },
          "execution_count": 28
        }
      ]
    },
    {
      "cell_type": "code",
      "metadata": {
        "colab": {
          "base_uri": "https://localhost:8080/"
        },
        "id": "prjxwqu2szbD",
        "outputId": "ad3492aa-9e0e-4058-f589-c1e0c19db78d"
      },
      "source": [
        "# Checking the variable type\n",
        "type(multiple_sheets_file.keys())"
      ],
      "execution_count": null,
      "outputs": [
        {
          "output_type": "execute_result",
          "data": {
            "text/plain": [
              "dict_keys"
            ]
          },
          "metadata": {
            "tags": []
          },
          "execution_count": 29
        }
      ]
    },
    {
      "cell_type": "code",
      "metadata": {
        "colab": {
          "base_uri": "https://localhost:8080/"
        },
        "id": "j-PK7mHMz3RM",
        "outputId": "3ae3f1f1-7777-4c5f-fbe5-f0922ffd2806"
      },
      "source": [
        "# Converting it into a list using the list function\n",
        "sheets = list(multiple_sheets_file.keys())\n",
        "print(sheets)"
      ],
      "execution_count": null,
      "outputs": [
        {
          "output_type": "stream",
          "text": [
            "['Sheet1', 'Sheet2']\n"
          ],
          "name": "stdout"
        }
      ]
    },
    {
      "cell_type": "code",
      "metadata": {
        "id": "ottV3cAa0HDa"
      },
      "source": [
        "# Accomplishing file import and concatenation using list comprehension and pandas concat function\n",
        "# The parameter ignore_index = True creates a continuous index for all observations in our files. Change it to false to see what happens!\n",
        "df_multiple_sheet = pd.concat([pd.read_excel(\"/content/Files/Excel Workbook.xlsx\", sheet_name=sheet) for sheet in sheets], ignore_index= True)"
      ],
      "execution_count": null,
      "outputs": []
    },
    {
      "cell_type": "code",
      "metadata": {
        "colab": {
          "base_uri": "https://localhost:8080/",
          "height": 235
        },
        "id": "s9gA4t7B1EDp",
        "outputId": "2bd509bf-d547-448c-bf9f-62b138a1cfad"
      },
      "source": [
        "df_multiple_sheet "
      ],
      "execution_count": null,
      "outputs": [
        {
          "output_type": "execute_result",
          "data": {
            "text/html": [
              "<div>\n",
              "<style scoped>\n",
              "    .dataframe tbody tr th:only-of-type {\n",
              "        vertical-align: middle;\n",
              "    }\n",
              "\n",
              "    .dataframe tbody tr th {\n",
              "        vertical-align: top;\n",
              "    }\n",
              "\n",
              "    .dataframe thead th {\n",
              "        text-align: right;\n",
              "    }\n",
              "</style>\n",
              "<table border=\"1\" class=\"dataframe\">\n",
              "  <thead>\n",
              "    <tr style=\"text-align: right;\">\n",
              "      <th></th>\n",
              "      <th>Product</th>\n",
              "      <th>Price</th>\n",
              "    </tr>\n",
              "  </thead>\n",
              "  <tbody>\n",
              "    <tr>\n",
              "      <th>0</th>\n",
              "      <td>Headphone</td>\n",
              "      <td>20.90</td>\n",
              "    </tr>\n",
              "    <tr>\n",
              "      <th>1</th>\n",
              "      <td>Mouse</td>\n",
              "      <td>9.99</td>\n",
              "    </tr>\n",
              "    <tr>\n",
              "      <th>2</th>\n",
              "      <td>Wireless Keyboard</td>\n",
              "      <td>30.45</td>\n",
              "    </tr>\n",
              "    <tr>\n",
              "      <th>3</th>\n",
              "      <td>Water bottle</td>\n",
              "      <td>5.60</td>\n",
              "    </tr>\n",
              "    <tr>\n",
              "      <th>4</th>\n",
              "      <td>Rain coat</td>\n",
              "      <td>30.00</td>\n",
              "    </tr>\n",
              "    <tr>\n",
              "      <th>5</th>\n",
              "      <td>8 Socks</td>\n",
              "      <td>40.00</td>\n",
              "    </tr>\n",
              "  </tbody>\n",
              "</table>\n",
              "</div>"
            ],
            "text/plain": [
              "             Product  Price\n",
              "0          Headphone  20.90\n",
              "1              Mouse   9.99\n",
              "2  Wireless Keyboard  30.45\n",
              "3       Water bottle   5.60\n",
              "4          Rain coat  30.00\n",
              "5            8 Socks  40.00"
            ]
          },
          "metadata": {
            "tags": []
          },
          "execution_count": 32
        }
      ]
    },
    {
      "cell_type": "code",
      "metadata": {
        "id": "3QFcPPkQ1VUE"
      },
      "source": [
        "# We can finally export this dataframe as a new xlsx file\n",
        "# We already created a new directory for the new files in Case 1, so we can just save it there\n",
        "\n",
        "# If you did not read Case 1 or 2, you might want to create a new directory to save your output files\n",
        "# Just uncommment the following line\n",
        "# os.mkdir(\"/content/Output files\") \n",
        "\n",
        "# Exporting the dataframe as a new xlsx file\n",
        "# You can use the parameter index = False to avoid this extra index column in your new file\n",
        "df_multiple_sheet.to_excel(\"/content/Output files/Output_Case3.xlsx\", index= False)"
      ],
      "execution_count": null,
      "outputs": []
    },
    {
      "cell_type": "markdown",
      "metadata": {
        "id": "0mWZym-wwZGr"
      },
      "source": [
        "## Donwloading your files"
      ]
    },
    {
      "cell_type": "code",
      "metadata": {
        "id": "Oi0YkFnyu9VD"
      },
      "source": [
        "from google.colab import files\n",
        "output_directory = '/content/Output files'\n",
        "out_files = sorted(os.listdir(output_directory))\n",
        "file_paths = [output_directory + '/' +  file for file in out_files]"
      ],
      "execution_count": null,
      "outputs": []
    },
    {
      "cell_type": "code",
      "metadata": {
        "colab": {
          "base_uri": "https://localhost:8080/",
          "height": 35
        },
        "id": "jQpCcOUFv6WI",
        "outputId": "9e98fe67-b37d-46ee-a717-ea64540c65cb"
      },
      "source": [
        "file_paths[0]"
      ],
      "execution_count": null,
      "outputs": [
        {
          "output_type": "execute_result",
          "data": {
            "application/vnd.google.colaboratory.intrinsic+json": {
              "type": "string"
            },
            "text/plain": [
              "'/content/Output files/Output_Case1.csv'"
            ]
          },
          "metadata": {
            "tags": []
          },
          "execution_count": 35
        }
      ]
    },
    {
      "cell_type": "code",
      "metadata": {
        "colab": {
          "base_uri": "https://localhost:8080/",
          "height": 17
        },
        "id": "5TMlTlZFujAy",
        "outputId": "106b9c9a-ac94-45b9-eb69-b00614ec9306"
      },
      "source": [
        "for i in range(len(file_paths)):\n",
        "  files.download(file_paths[i])"
      ],
      "execution_count": null,
      "outputs": [
        {
          "output_type": "display_data",
          "data": {
            "application/javascript": [
              "\n",
              "    async function download(id, filename, size) {\n",
              "      if (!google.colab.kernel.accessAllowed) {\n",
              "        return;\n",
              "      }\n",
              "      const div = document.createElement('div');\n",
              "      const label = document.createElement('label');\n",
              "      label.textContent = `Downloading \"${filename}\": `;\n",
              "      div.appendChild(label);\n",
              "      const progress = document.createElement('progress');\n",
              "      progress.max = size;\n",
              "      div.appendChild(progress);\n",
              "      document.body.appendChild(div);\n",
              "\n",
              "      const buffers = [];\n",
              "      let downloaded = 0;\n",
              "\n",
              "      const channel = await google.colab.kernel.comms.open(id);\n",
              "      // Send a message to notify the kernel that we're ready.\n",
              "      channel.send({})\n",
              "\n",
              "      for await (const message of channel.messages) {\n",
              "        // Send a message to notify the kernel that we're ready.\n",
              "        channel.send({})\n",
              "        if (message.buffers) {\n",
              "          for (const buffer of message.buffers) {\n",
              "            buffers.push(buffer);\n",
              "            downloaded += buffer.byteLength;\n",
              "            progress.value = downloaded;\n",
              "          }\n",
              "        }\n",
              "      }\n",
              "      const blob = new Blob(buffers, {type: 'application/binary'});\n",
              "      const a = document.createElement('a');\n",
              "      a.href = window.URL.createObjectURL(blob);\n",
              "      a.download = filename;\n",
              "      div.appendChild(a);\n",
              "      a.click();\n",
              "      div.remove();\n",
              "    }\n",
              "  "
            ],
            "text/plain": [
              "<IPython.core.display.Javascript object>"
            ]
          },
          "metadata": {
            "tags": []
          }
        },
        {
          "output_type": "display_data",
          "data": {
            "application/javascript": [
              "download(\"download_ecd9b11a-48b9-44f7-9018-42e09b50ac1f\", \"Output_Case1.csv\", 122)"
            ],
            "text/plain": [
              "<IPython.core.display.Javascript object>"
            ]
          },
          "metadata": {
            "tags": []
          }
        },
        {
          "output_type": "display_data",
          "data": {
            "application/javascript": [
              "\n",
              "    async function download(id, filename, size) {\n",
              "      if (!google.colab.kernel.accessAllowed) {\n",
              "        return;\n",
              "      }\n",
              "      const div = document.createElement('div');\n",
              "      const label = document.createElement('label');\n",
              "      label.textContent = `Downloading \"${filename}\": `;\n",
              "      div.appendChild(label);\n",
              "      const progress = document.createElement('progress');\n",
              "      progress.max = size;\n",
              "      div.appendChild(progress);\n",
              "      document.body.appendChild(div);\n",
              "\n",
              "      const buffers = [];\n",
              "      let downloaded = 0;\n",
              "\n",
              "      const channel = await google.colab.kernel.comms.open(id);\n",
              "      // Send a message to notify the kernel that we're ready.\n",
              "      channel.send({})\n",
              "\n",
              "      for await (const message of channel.messages) {\n",
              "        // Send a message to notify the kernel that we're ready.\n",
              "        channel.send({})\n",
              "        if (message.buffers) {\n",
              "          for (const buffer of message.buffers) {\n",
              "            buffers.push(buffer);\n",
              "            downloaded += buffer.byteLength;\n",
              "            progress.value = downloaded;\n",
              "          }\n",
              "        }\n",
              "      }\n",
              "      const blob = new Blob(buffers, {type: 'application/binary'});\n",
              "      const a = document.createElement('a');\n",
              "      a.href = window.URL.createObjectURL(blob);\n",
              "      a.download = filename;\n",
              "      div.appendChild(a);\n",
              "      a.click();\n",
              "      div.remove();\n",
              "    }\n",
              "  "
            ],
            "text/plain": [
              "<IPython.core.display.Javascript object>"
            ]
          },
          "metadata": {
            "tags": []
          }
        },
        {
          "output_type": "display_data",
          "data": {
            "application/javascript": [
              "download(\"download_a688909b-e760-41e8-b0a2-3e6d12c240fd\", \"Output_Case2.xlsx\", 5083)"
            ],
            "text/plain": [
              "<IPython.core.display.Javascript object>"
            ]
          },
          "metadata": {
            "tags": []
          }
        },
        {
          "output_type": "display_data",
          "data": {
            "application/javascript": [
              "\n",
              "    async function download(id, filename, size) {\n",
              "      if (!google.colab.kernel.accessAllowed) {\n",
              "        return;\n",
              "      }\n",
              "      const div = document.createElement('div');\n",
              "      const label = document.createElement('label');\n",
              "      label.textContent = `Downloading \"${filename}\": `;\n",
              "      div.appendChild(label);\n",
              "      const progress = document.createElement('progress');\n",
              "      progress.max = size;\n",
              "      div.appendChild(progress);\n",
              "      document.body.appendChild(div);\n",
              "\n",
              "      const buffers = [];\n",
              "      let downloaded = 0;\n",
              "\n",
              "      const channel = await google.colab.kernel.comms.open(id);\n",
              "      // Send a message to notify the kernel that we're ready.\n",
              "      channel.send({})\n",
              "\n",
              "      for await (const message of channel.messages) {\n",
              "        // Send a message to notify the kernel that we're ready.\n",
              "        channel.send({})\n",
              "        if (message.buffers) {\n",
              "          for (const buffer of message.buffers) {\n",
              "            buffers.push(buffer);\n",
              "            downloaded += buffer.byteLength;\n",
              "            progress.value = downloaded;\n",
              "          }\n",
              "        }\n",
              "      }\n",
              "      const blob = new Blob(buffers, {type: 'application/binary'});\n",
              "      const a = document.createElement('a');\n",
              "      a.href = window.URL.createObjectURL(blob);\n",
              "      a.download = filename;\n",
              "      div.appendChild(a);\n",
              "      a.click();\n",
              "      div.remove();\n",
              "    }\n",
              "  "
            ],
            "text/plain": [
              "<IPython.core.display.Javascript object>"
            ]
          },
          "metadata": {
            "tags": []
          }
        },
        {
          "output_type": "display_data",
          "data": {
            "application/javascript": [
              "download(\"download_94a53ac2-5a5b-4b0c-89c1-ecd77a6e0484\", \"Output_Case3.xlsx\", 5083)"
            ],
            "text/plain": [
              "<IPython.core.display.Javascript object>"
            ]
          },
          "metadata": {
            "tags": []
          }
        }
      ]
    }
  ]
}